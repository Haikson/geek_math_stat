{
 "cells": [
  {
   "cell_type": "markdown",
   "metadata": {
    "collapsed": true,
    "pycharm": {
     "name": "#%% md\n"
    }
   },
   "source": [
    "## Урок 4. Непрерывные случайные величины. Функция распределения и плотность распределения вероятностей. Равномерное и нормальное распределение. Центральная предельная теорема\n",
    "\n",
    "### Задача 1\n",
    "\n",
    "О непрерывной равномерно распределённой случайной величине B известно, \n",
    "что её дисперсия равна 0.2. \n",
    "Можно ли найти правую границу величины B и её среднее значение зная, \n",
    "что левая граница равна 0.5? Если да, найдите их.\n",
    "\n",
    "$$M(X) = \\dfrac{a + b}{2}, \\:\\: D(X) = \\dfrac{(b - a)^2}{12}.$$"
   ]
  },
  {
   "cell_type": "code",
   "execution_count": 2,
   "outputs": [],
   "source": [
    "import numpy as np\n",
    "import pandas as pd\n",
    "import matplotlib.pyplot as plt"
   ],
   "metadata": {
    "collapsed": false,
    "pycharm": {
     "name": "#%%\n",
     "is_executing": false
    }
   }
  },
  {
   "cell_type": "code",
   "execution_count": 5,
   "outputs": [
    {
     "name": "stdout",
     "text": [
      "a = -1.0491933384829668\n",
      "M = -0.2745966692414834\n"
     ],
     "output_type": "stream"
    }
   ],
   "source": [
    "b = .5\n",
    "D = .2\n",
    "\n",
    "a = -1 * (np.sqrt(D * 12) - b)\n",
    "print(f\"a = {a}\")\n",
    "\n",
    "M = (a + b) / 2\n",
    "print(f\"M = {M}\")"
   ],
   "metadata": {
    "collapsed": false,
    "pycharm": {
     "name": "#%%\n",
     "is_executing": false
    }
   }
  },
  {
   "cell_type": "markdown",
   "source": [
    "### Задача 2\n",
    "\n",
    "Коробки с шоколадом упаковываются автоматически. \n",
    "Их средняя масса равна 1.06 кг. \n",
    "Известно, что 5% коробок имеют массу, меньшую 1 кг. \n",
    "Найдите: \n",
    "\n",
    "* среднее квадратическое отклонение массы коробки, \n",
    "* процент коробок, имеющих массу больше 1.1 кг.\n",
    "\n",
    "Подсказка.\n",
    "Найдите такое значение scale, для которого значение \n",
    "cdf(x=1, loc=1.06, scale=scale) близко к 0.05.\n",
    "Точности 0.0001 будет достаточно.\n",
    "\n",
    "$M(X) = 1.06$\n",
    "\n",
    "$P(X < 1)  = 0.05$"
   ],
   "metadata": {
    "collapsed": false,
    "pycharm": {
     "name": "#%% md\n"
    }
   }
  },
  {
   "cell_type": "code",
   "execution_count": 7,
   "outputs": [],
   "source": [
    "from scipy.special import erf\n",
    "\n",
    "def cdf_normal(x: float, loc: float, scale: float) -> float:\n",
    "    \"\"\"Функция распределения для нормального распределения.\n",
    "    \"\"\"\n",
    "    \n",
    "    return (1 + erf((x - loc) / (scale * np.sqrt(2)))) / 2"
   ],
   "metadata": {
    "collapsed": false,
    "pycharm": {
     "name": "#%%\n",
     "is_executing": false
    }
   }
  },
  {
   "cell_type": "code",
   "execution_count": null,
   "outputs": [],
   "source": [
    "def get_scale():\n",
    "    x = 1\n",
    "    loc = 1.06\n",
    "    # 0.05 = (1 + erf((x - loc) / (scale * np.sqrt(2)))) / 2\n",
    "    # 0.02 * 2 - 1 = erf((x - loc) / (scale * np.sqrt(2)))\n",
    "    # \n",
    "    pass"
   ],
   "metadata": {
    "collapsed": false,
    "pycharm": {
     "name": "#%%\n"
    }
   }
  },
  {
   "cell_type": "markdown",
   "source": [
    "### Задача 3\n",
    "\n",
    "Коробка содержит 30 конфет. Известно, что масса каждой конфеты распределена равномерно в промежутке от 12 до 14 граммов. Используя центральную предельную теорему, найти вероятность, что масса всей коробки будет: а) меньше 390 граммов, б) больше 395 граммов, в) от 380 до 400 граммов.\n",
    "\n",
    "Массой самой коробки можно пренебречь."
   ],
   "metadata": {
    "collapsed": false,
    "pycharm": {
     "name": "#%% md\n",
     "is_executing": false
    }
   }
  },
  {
   "cell_type": "markdown",
   "source": [
    "### Задача 4 (на подумать)\n",
    "\n",
    "Каким образом связаны между собой понятие квантиля и правила двух и трёх сигм?\n",
    "\n",
    "Данное задание - на подумать, оформлять его не обязательно. Этот вопрос мы обсудим в начале следующего занятия.\n"
   ],
   "metadata": {
    "collapsed": false
   }
  }
 ],
 "metadata": {
  "kernelspec": {
   "name": "python3",
   "language": "python",
   "display_name": "Python 3"
  },
  "language_info": {
   "codemirror_mode": {
    "name": "ipython",
    "version": 2
   },
   "file_extension": ".py",
   "mimetype": "text/x-python",
   "name": "python",
   "nbconvert_exporter": "python",
   "pygments_lexer": "ipython2",
   "version": "2.7.6"
  },
  "pycharm": {
   "stem_cell": {
    "cell_type": "raw",
    "source": [],
    "metadata": {
     "collapsed": false
    }
   }
  }
 },
 "nbformat": 4,
 "nbformat_minor": 0
}