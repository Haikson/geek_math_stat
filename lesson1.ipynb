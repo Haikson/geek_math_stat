{
 "cells": [
  {
   "cell_type": "markdown",
   "metadata": {
    "pycharm": {
     "name": "#%% md\n"
    }
   },
   "source": [
    "Подготовим функции из первого занятия"
   ]
  },
  {
   "cell_type": "code",
   "execution_count": 1,
   "metadata": {
    "pycharm": {
     "is_executing": false,
     "name": "#%%\n"
    }
   },
   "outputs": [],
   "source": [
    "import numpy as np\n",
    "def arrangements(n: int, k: int) -> int:\n",
    "    \"\"\"Число размещений.\n",
    "    \"\"\"\n",
    "    \n",
    "    return np.math.factorial(n) // np.math.factorial(n - k)\n",
    "    \n",
    "    \n",
    "def permutations(n: int) -> int:\n",
    "    \"\"\"Число перестановок.\n",
    "    \"\"\"\n",
    "    \n",
    "    return np.math.factorial(n)\n",
    "    \n",
    "def combinations(n: int, k: int) -> int:\n",
    "    \"\"\"Число сочетаний.\n",
    "    \"\"\"\n",
    "    \n",
    "    return np.math.factorial(n) // (np.math.factorial(k) * np.math.factorial(n - k))\n",
    "    "
   ]
  },
  {
   "cell_type": "markdown",
   "metadata": {},
   "source": [
    "### Задача 1\n",
    "Из колоды в 52 карты вынимают случайным образом 4 карты. Найти число исходов,\n",
    " соответствующих тому, что был вытянут хотя бы один туз."
   ]
  },
  {
   "cell_type": "markdown",
   "metadata": {
    "pycharm": {
     "name": "#%% md\n"
    }
   },
   "source": [
    "Для начала определим количество способов, которыми мы можем получить 4 карты из 52"
   ]
  },
  {
   "cell_type": "code",
   "execution_count": 2,
   "metadata": {
    "pycharm": {
     "is_executing": false
    }
   },
   "outputs": [
    {
     "data": {
      "text/plain": [
       "270725"
      ]
     },
     "execution_count": 2,
     "metadata": {},
     "output_type": "execute_result"
    }
   ],
   "source": [
    "C = combinations(52, 4)\n",
    "C"
   ]
  },
  {
   "cell_type": "markdown",
   "metadata": {
    "pycharm": {
     "name": "#%% md\n"
    }
   },
   "source": [
    "Для того, чтобы среди извлеченных карт не было ни одного туза, надо выбрать семь карт из 48 карт\n",
    " и ни одной карты из четырех тузов: это можно сделать С (4 48)*С (0 4)=С (4 48) способами."
   ]
  },
  {
   "cell_type": "code",
   "execution_count": 3,
   "metadata": {
    "pycharm": {
     "is_executing": false,
     "name": "#%%\n"
    }
   },
   "outputs": [
    {
     "data": {
      "text/plain": [
       "194580"
      ]
     },
     "execution_count": 3,
     "metadata": {},
     "output_type": "execute_result"
    }
   ],
   "source": [
    "nC = combinations(48, 4)\n",
    "nC"
   ]
  },
  {
   "cell_type": "markdown",
   "metadata": {
    "pycharm": {
     "name": "#%% md\n"
    }
   },
   "source": [
    "Следовательно, вероятность вытащить хотя бы один туз A=С (4 52) - С (4 48)"
   ]
  },
  {
   "cell_type": "code",
   "execution_count": 4,
   "metadata": {
    "pycharm": {
     "is_executing": false,
     "name": "#%%\n"
    }
   },
   "outputs": [
    {
     "name": "stdout",
     "output_type": "stream",
     "text": [
      "A = 76145\n"
     ]
    }
   ],
   "source": [
    "A = C - nC\n",
    "print(f\"A = {A}\")"
   ]
  },
  {
   "cell_type": "markdown",
   "metadata": {},
   "source": [
    "### Задача 2\n",
    "\n",
    "Семь человек рассаживаются наудачу на скамейке. Какова вероятность того, \n",
    "что рядом будут сидеть: а) два определённых человека? б) три определённых человека?"
   ]
  },
  {
   "cell_type": "markdown",
   "metadata": {
    "pycharm": {
     "name": "#%% md\n"
    }
   },
   "source": [
    "В первом случае у нас два определенных человека могут сидеть рядом, остальные как угодно.\n",
    "Скамейка одна.\n",
    "\n",
    "P = m/n\n",
    "\n",
    "Рассадить всех мы можем n! способами. В нашем случае это 7! "
   ]
  },
  {
   "cell_type": "code",
   "execution_count": 5,
   "metadata": {
    "pycharm": {
     "is_executing": false,
     "name": "#%%\n"
    }
   },
   "outputs": [
    {
     "data": {
      "text/plain": [
       "5040"
      ]
     },
     "execution_count": 5,
     "metadata": {},
     "output_type": "execute_result"
    }
   ],
   "source": [
    "n_fact = np.math.factorial(7)\n",
    "n_fact"
   ]
  },
  {
   "cell_type": "markdown",
   "metadata": {},
   "source": [
    "5 человек рассаживаются как угодно  = 5!\n",
    "\n",
    "остальные 2 рядом 2!\n",
    "\n",
    "m_fact = 2 * 5!"
   ]
  },
  {
   "cell_type": "code",
   "execution_count": 6,
   "metadata": {
    "pycharm": {
     "is_executing": false,
     "name": "#%%\n"
    }
   },
   "outputs": [
    {
     "data": {
      "text/plain": [
       "1440"
      ]
     },
     "execution_count": 6,
     "metadata": {},
     "output_type": "execute_result"
    }
   ],
   "source": [
    "m_fact = 6 * 2 * np.math.factorial(5)\n",
    "m_fact"
   ]
  },
  {
   "cell_type": "code",
   "execution_count": 7,
   "metadata": {
    "pycharm": {
     "is_executing": false,
     "name": "#%%\n"
    }
   },
   "outputs": [
    {
     "name": "stdout",
     "output_type": "stream",
     "text": [
      "Вероятность посадить 2-х человек рядом = 0.2857142857142857 или 28.57%\n"
     ]
    }
   ],
   "source": [
    "P = m_fact / n_fact\n",
    "print(f\"Вероятность посадить 2-х человек рядом = {P} или {round(P*100, 2)}%\")"
   ]
  },
  {
   "cell_type": "markdown",
   "metadata": {},
   "source": [
    "Оформим как функцию"
   ]
  },
  {
   "cell_type": "code",
   "execution_count": 8,
   "metadata": {
    "pycharm": {
     "is_executing": false,
     "name": "#%%\n"
    }
   },
   "outputs": [],
   "source": [
    "def bench(need_cnt=1, all_cnt=1):\n",
    "    P = (all_cnt - (need_cnt - 1)) * np.math.factorial(need_cnt) * np.math.factorial(all_cnt-need_cnt)/np.math.factorial(all_cnt)\n",
    "    return P"
   ]
  },
  {
   "cell_type": "markdown",
   "metadata": {},
   "source": [
    "Проверим на 1 человеке и на 2-х из 7"
   ]
  },
  {
   "cell_type": "code",
   "execution_count": 9,
   "metadata": {
    "pycharm": {
     "is_executing": false,
     "name": "#%%\n"
    }
   },
   "outputs": [
    {
     "name": "stdout",
     "output_type": "stream",
     "text": [
      "0.2857142857142857 == 0.2857142857142857 && 1.0 == 1\n"
     ]
    }
   ],
   "source": [
    "print(f\"{bench(2, 7)} == {P} && {bench(1,7)} == 1\")"
   ]
  },
  {
   "cell_type": "markdown",
   "metadata": {},
   "source": [
    "Теперь для трех человек"
   ]
  },
  {
   "cell_type": "code",
   "execution_count": 10,
   "metadata": {
    "pycharm": {
     "is_executing": false,
     "name": "#%%\n"
    }
   },
   "outputs": [
    {
     "name": "stdout",
     "output_type": "stream",
     "text": [
      "Вероятность посадить 3-х человек рядом = 0.14285714285714285 или 14.29%\n"
     ]
    }
   ],
   "source": [
    "print(f\"Вероятность посадить 3-х человек рядом = {bench(3,7)} или {round(bench(3,7)*100, 2)}%\")"
   ]
  },
  {
   "cell_type": "markdown",
   "metadata": {},
   "source": [
    "### Задача 3\n",
    "\n",
    "Из 60 вопросов, входящих в экзаменационные билеты, студент знает 50.\n",
    " Какова вероятность того, что среди трёх наугад выбранных вопросов студент знает:\n",
    "  а) все?\n",
    "  б) два?\n"
   ]
  },
  {
   "cell_type": "markdown",
   "metadata": {},
   "source": [
    "P = m/n\n",
    "=======\n",
    "Общее число билетов определяется сочетанием по 3 из 60"
   ]
  },
  {
   "cell_type": "code",
   "execution_count": 11,
   "metadata": {
    "pycharm": {
     "is_executing": false,
     "name": "#%%\n"
    }
   },
   "outputs": [
    {
     "data": {
      "text/plain": [
       "34220"
      ]
     },
     "execution_count": 11,
     "metadata": {},
     "output_type": "execute_result"
    }
   ],
   "source": [
    "n = combinations(60, 3)\n",
    "n"
   ]
  },
  {
   "cell_type": "markdown",
   "metadata": {},
   "source": [
    "A) Количество вопросов которых студент знает, определяется сочетанием по 3 из 50:"
   ]
  },
  {
   "cell_type": "code",
   "execution_count": 12,
   "metadata": {
    "pycharm": {
     "is_executing": false,
     "name": "#%%\n"
    }
   },
   "outputs": [
    {
     "data": {
      "text/plain": [
       "19600"
      ]
     },
     "execution_count": 12,
     "metadata": {},
     "output_type": "execute_result"
    }
   ],
   "source": [
    "m = combinations(50, 3)\n",
    "m"
   ]
  },
  {
   "cell_type": "code",
   "execution_count": 13,
   "metadata": {
    "pycharm": {
     "is_executing": false,
     "name": "#%%   \n"
    }
   },
   "outputs": [
    {
     "name": "stdout",
     "output_type": "stream",
     "text": [
      "P = 0.5727644652250146\n"
     ]
    }
   ],
   "source": [
    "print(f\"P = {m/n}\")"
   ]
  },
  {
   "cell_type": "markdown",
   "metadata": {
    "pycharm": {
     "name": "#%% md\n"
    }
   },
   "source": [
    "B) Количество вопросов, которые студент знает, определяется сочетанием по 2 из 50"
   ]
  },
  {
   "cell_type": "code",
   "execution_count": 14,
   "metadata": {
    "pycharm": {
     "is_executing": false,
     "name": "#%%\n"
    }
   },
   "outputs": [],
   "source": [
    "m = combinations(50, 2)"
   ]
  },
  {
   "cell_type": "markdown",
   "metadata": {
    "pycharm": {
     "name": "#%% md\n"
    }
   },
   "source": [
    "умноженное на количество вопросы которых студент не знает 1 из 10"
   ]
  },
  {
   "cell_type": "code",
   "execution_count": 15,
   "metadata": {
    "pycharm": {
     "is_executing": false,
     "name": "#%%\n"
    }
   },
   "outputs": [
    {
     "data": {
      "text/plain": [
       "12250"
      ]
     },
     "execution_count": 15,
     "metadata": {},
     "output_type": "execute_result"
    }
   ],
   "source": [
    "m *= combinations(10, 1)\n",
    "m\n"
   ]
  },
  {
   "cell_type": "code",
   "execution_count": 16,
   "metadata": {
    "pycharm": {
     "is_executing": false,
     "name": "#%%\n"
    }
   },
   "outputs": [
    {
     "name": "stdout",
     "output_type": "stream",
     "text": [
      "P = 0.35797779076563413\n"
     ]
    }
   ],
   "source": [
    "print(f\"P = {m/n}\")"
   ]
  },
  {
   "cell_type": "markdown",
   "metadata": {
    "pycharm": {
     "name": "#%% md\n"
    }
   },
   "source": [
    "### Задача 4\n",
    "\n",
    "Бросается игральная кость.\n",
    "Пусть событие A - появление чётного числа,\n",
    "событие B - появление числа больше трёх.\n",
    "\n",
    "Являются ли эти события независимыми?"
   ]
  },
  {
   "cell_type": "markdown",
   "metadata": {},
   "source": [
    "#### Ответ\n",
    "\n",
    "Так как четное число не обязательно больше трех\n",
    "то события A и B являются независимыми\n",
    "\n",
    "С другой стороны вероятность события А при событии B выше (2/6 против 1/6)"
   ]
  },
  {
   "cell_type": "markdown",
   "metadata": {
    "pycharm": {
     "name": "#%% md\n"
    }
   },
   "source": [
    "### Задача 5\n",
    "\n",
    "Допустим, имеется некоторая очень редкая болезнь (поражает 0.1% населения).\n",
    "Вы приходите к врачу, вам делают тест на эту болезнь, и тест оказывается положительным.\n",
    "Врач говорит вам, что этот тест верно выявляет 99% больных этой болезнью\n",
    "и всего лишь в 1% случаев даёт ложный положительный ответ.\n",
    "\n",
    "Вопрос: какова вероятность, что вы действительно больны ей?\n",
    "\n",
    "Подсказка: вновь используйте формулу Байеса с раскрытием знаменателя с\n",
    "помощью формулы полной вероятности."
   ]
  },
  {
   "cell_type": "markdown",
   "metadata": {
    "pycharm": {
     "name": "#%% md\n"
    }
   },
   "source": [
    "P(A|B) = P(B|A) * P(A) / P(B)\n",
    "\n",
    "P(A)=0.001 - вероятность больного человека\n",
    "P(~A)=0.999 - вероятность здорового человека\n",
    "P(B|A)=1 - вероятность положительного теста для больного человека\n",
    "P(B|~A)=0.01 - вероятность положительного теста для здорового человека\n",
    "\n",
    "Искомая вероятность больного человека при положительном тесте\n",
    "P(A|B)=(P(A)*P(B|A))/(P(A)*P(B|A)+P(~A)*P(B|~A))"
   ]
  },
  {
   "cell_type": "code",
   "execution_count": 18,
   "metadata": {
    "pycharm": {
     "is_executing": false,
     "name": "#%%\n"
    }
   },
   "outputs": [
    {
     "data": {
      "text/plain": "0.09008189262966333"
     },
     "metadata": {},
     "output_type": "execute_result",
     "execution_count": 18
    }
   ],
   "source": [
    "P = (0.001 * 1) * 0.99/(0.001 * 1 + 0.999 * 0.01)\n",
    "P"
   ]
  },
  {
   "cell_type": "markdown",
   "metadata": {
    "pycharm": {
     "name": "#%% md\n"
    }
   },
   "source": [
    "Задачу решал интуитивно. Не полностью понимая ход и что где должно оказаться\n"
   ]
  }
 ],
 "metadata": {
  "file_extension": ".py",
  "kernelspec": {
   "display_name": "Python 3",
   "language": "python",
   "name": "python3"
  },
  "language_info": {
   "codemirror_mode": {
    "name": "ipython",
    "version": 3
   },
   "file_extension": ".py",
   "mimetype": "text/x-python",
   "name": "python",
   "nbconvert_exporter": "python",
   "pygments_lexer": "ipython3",
   "version": "3.7.6"
  },
  "mimetype": "text/x-python",
  "name": "python",
  "npconvert_exporter": "python",
  "pycharm": {
   "stem_cell": {
    "cell_type": "raw",
    "source": [],
    "metadata": {
     "collapsed": false
    }
   }
  },
  "pygments_lexer": "ipython3",
  "version": 3
 },
 "nbformat": 4,
 "nbformat_minor": 2
}