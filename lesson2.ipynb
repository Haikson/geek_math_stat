{
 "cells": [
  {
   "cell_type": "markdown",
   "metadata": {
    "collapsed": true,
    "pycharm": {
     "name": "#%% md\n"
    }
   },
   "source": [
    "# Урок 2\n",
    "## Дискретные случайные величины. Закон распределения вероятностей. Биномиальный закон распределения. Распределение Пуассона\n",
    "\n",
    "Домашнее задание"
   ]
  },
  {
   "cell_type": "markdown",
   "source": [
    "### Задача 1\n",
    "\n",
    "Контрольная работа состоит из пяти вопросов.\n",
    "\n",
    "На каждый вопрос приведено четыре варианта ответа,\n",
    "  один из которых правильный.\n",
    " \n",
    " Составьте закон распределения числа правильных ответов при простом угадывании.\n",
    " \n",
    " Найдите M(X), D(X)."
   ],
   "metadata": {
    "collapsed": false,
    "pycharm": {
     "name": "#%% md\n"
    }
   }
  },
  {
   "cell_type": "markdown",
   "source": [
    "### Задача 2\n",
    "\n",
    "Пользователь получает в среднем 10 писем со спамом на свой почтовый ящик за сутки.\n",
    "\n",
    "Найти число N, такое, что с вероятностью 0.95 \n",
    "пользователь получит не более N писем со спамом за текущий день."
   ],
   "metadata": {
    "collapsed": false
   }
  },
  {
   "cell_type": "markdown",
   "source": [
    "### Задача 3\n",
    "\n",
    "Производятся выстрелы по мишени.\n",
    "\n",
    "Вероятность попадания в мишень при одном выстреле равна 0.01.\n",
    "\n",
    "Сколько выстрелов нужно сделать чтобы быть уверенным с вероятностью 0.9,\n",
    " что хотя бы 6 раз будет совершено попадание?\n",
    "\n",
    "Подсказка. Здесь предстоит немножко покодить.\n"
   ],
   "metadata": {
    "collapsed": false
   }
  }
 ],
 "metadata": {
  "kernelspec": {
   "display_name": "Python 3",
   "language": "python",
   "name": "python3"
  },
  "language_info": {
   "codemirror_mode": {
    "name": "ipython",
    "version": 2
   },
   "file_extension": ".py",
   "mimetype": "text/x-python",
   "name": "python",
   "nbconvert_exporter": "python",
   "pygments_lexer": "ipython2",
   "version": "2.7.6"
  },
  "pycharm": {
   "stem_cell": {
    "cell_type": "raw",
    "source": [],
    "metadata": {
     "collapsed": false
    }
   }
  }
 },
 "nbformat": 4,
 "nbformat_minor": 0
}