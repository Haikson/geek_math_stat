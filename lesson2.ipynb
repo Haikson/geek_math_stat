{
 "cells": [
  {
   "cell_type": "markdown",
   "metadata": {
    "collapsed": true,
    "pycharm": {
     "name": "#%% md\n"
    }
   },
   "source": [
    "# Урок 2\n",
    "## Дискретные случайные величины. Закон распределения вероятностей. Биномиальный закон распределения. Распределение Пуассона\n",
    "\n",
    "Домашнее задание"
   ]
  },
  {
   "cell_type": "code",
   "execution_count": 64,
   "outputs": [],
   "source": [
    "import numpy as np\n",
    "\n",
    "    \n",
    "def combinations(n: int, k: int) -> int:\n",
    "    \"\"\"Число сочетаний.\n",
    "    \"\"\"\n",
    "    \n",
    "    return np.math.factorial(n) // (np.math.factorial(k) * np.math.factorial(n - k))"
   ],
   "metadata": {
    "collapsed": false,
    "pycharm": {
     "name": "#%%\n",
     "is_executing": false
    }
   }
  },
  {
   "cell_type": "markdown",
   "source": [
    "### Задача 1\n",
    "\n",
    "Контрольная работа состоит из пяти вопросов.\n",
    "\n",
    "На каждый вопрос приведено четыре варианта ответа,\n",
    "  один из которых правильный.\n",
    " \n",
    "Составьте закон распределения числа правильных ответов при простом угадывании.\n",
    " \n",
    " Найдите M(X), D(X)."
   ],
   "metadata": {
    "collapsed": false,
    "pycharm": {
     "name": "#%% md\n"
    }
   }
  },
  {
   "cell_type": "markdown",
   "source": [
    "$p = \\dfrac{1}{4}$\n",
    "\n",
    "$P(X=k) = C_5^k \\cdot ( 1 - p )^{5-k} \\cdot p^k$\n",
    "$P(X=k) = C_5^k \\cdot ( 1 - \\dfrac{1}{4} )^{5-k} \\cdot (\\dfrac{1}{4})^k$"
   ],
   "metadata": {
    "collapsed": false
   }
  },
  {
   "cell_type": "code",
   "execution_count": 65,
   "outputs": [
    {
     "name": "stdout",
     "text": [
      "Закон распределения [0.2373046875, 0.3955078125, 0.263671875, 0.087890625, 0.0146484375, 0.0009765625]\n"
     ],
     "output_type": "stream"
    }
   ],
   "source": [
    "def get_distribution(k):\n",
    "    n = 5\n",
    "    p = 1/4\n",
    "    return combinations(n, k) * ((1-p) ** (n-k)) * (p ** k)\n",
    "\n",
    "distribution = [get_distribution(k)  for k in range(6)]\n",
    "print(f\"Закон распределения {distribution}\")"
   ],
   "metadata": {
    "collapsed": false,
    "pycharm": {
     "name": "#%%\n",
     "is_executing": false
    }
   }
  },
  {
   "cell_type": "code",
   "execution_count": 66,
   "outputs": [
    {
     "name": "stdout",
     "text": [
      "Мат. ожидание = 1.25\n"
     ],
     "output_type": "stream"
    }
   ],
   "source": [
    "x_values = np.array([x for x in range(6)])\n",
    "m_x = x_values.dot(distribution)\n",
    "print(f\"Мат. ожидание = {m_x}\")"
   ],
   "metadata": {
    "collapsed": false,
    "pycharm": {
     "name": "#%%\n",
     "is_executing": false
    }
   }
  },
  {
   "cell_type": "code",
   "execution_count": 67,
   "outputs": [
    {
     "name": "stdout",
     "text": [
      "Дисперсия = 0.9375\n"
     ],
     "output_type": "stream"
    }
   ],
   "source": [
    "y_values = x_values - m_x\n",
    "z_values = y_values ** 2\n",
    "d = z_values.dot(distribution)\n",
    "print(f\"Дисперсия = {d}\")"
   ],
   "metadata": {
    "collapsed": false,
    "pycharm": {
     "name": "#%%\n",
     "is_executing": false
    }
   }
  },
  {
   "cell_type": "markdown",
   "source": [
    "### Задача 2\n",
    "\n",
    "Пользователь получает в среднем 10 писем со спамом на свой почтовый ящик за сутки.\n",
    "\n",
    "Найти число N, такое, что с вероятностью 0.95 \n",
    "пользователь получит не более N писем со спамом за текущий день."
   ],
   "metadata": {
    "collapsed": false
   }
  },
  {
   "cell_type": "markdown",
   "source": [
    "$$P(X = k) = \\dfrac{\\lambda^k e^{-\\lambda}}{k!}$$\n",
    "\n",
    "$\\lambda = 10$\n",
    "\n",
    "Для нахождения $N$, такого, что с вероятностью $0.95$ \n",
    "пользователь получит не более $N$ писем со спамом за текущий день, мы должны найти вероятности\n",
    "для спама от 0 до $\\infty$, пока сумма найденных вероятностей не будет $\\leq 0.95$ .\n",
    "\n",
    "Напишем функцию вычисления вероятности по формуле Пуассона\n",
    "(мы имеем распределение, в котором за интервал времени (сутки) событие наступает $\\lambda$ раз)"
   ],
   "metadata": {
    "collapsed": false,
    "pycharm": {
     "name": "#%% md\n"
    }
   }
  },
  {
   "cell_type": "code",
   "execution_count": 68,
   "outputs": [],
   "source": [
    "def probability(k):\n",
    "    lambda_ = 10\n",
    "    p = (lambda_ ** k) * np.exp(-lambda_) / np.math.factorial(k)\n",
    "    return p"
   ],
   "metadata": {
    "collapsed": false,
    "pycharm": {
     "name": "#%%\n",
     "is_executing": false
    }
   }
  },
  {
   "cell_type": "markdown",
   "source": [
    "В цикле просуммируем вероятности"
   ],
   "metadata": {
    "collapsed": false,
    "pycharm": {
     "name": "#%% md\n"
    }
   }
  },
  {
   "cell_type": "code",
   "source": [
    "k = -1\n",
    "p = 0\n",
    "\n",
    "while p < 0.95:\n",
    "    k += 1\n",
    "    p += probability(k)\n",
    "\n",
    "print(f\"N = {k}, p = {p}\")"
   ],
   "metadata": {
    "collapsed": false,
    "pycharm": {
     "name": "#%%\n",
     "is_executing": false
    }
   },
   "execution_count": 69,
   "outputs": [
    {
     "name": "stdout",
     "text": [
      "N = 15, p = 0.9512595966960214\n"
     ],
     "output_type": "stream"
    }
   ]
  },
  {
   "cell_type": "markdown",
   "source": [
    "### Задача 3\n",
    "\n",
    "Производятся выстрелы по мишени.\n",
    "\n",
    "Вероятность попадания в мишень при одном выстреле равна 0.01.\n",
    "\n",
    "Сколько выстрелов нужно сделать чтобы быть уверенным с вероятностью 0.9,\n",
    " что хотя бы 6 раз будет совершено попадание?\n",
    "\n",
    "Подсказка. Здесь предстоит немножко покодить."
   ],
   "metadata": {
    "collapsed": false,
    "pycharm": {
     "name": "#%% md\n"
    }
   }
  },
  {
   "cell_type": "markdown",
   "source": [
    "Мы имеем биномиальное распределение независимых испытаний. При этом условие задачи обратное условию предыдущей задачи.\n",
    "\n",
    "Мы должны найти минимальное количество выстрелов, при которых (суммарно) было произведено 6 попаданий с вероятностью 0,9\n",
    "\n",
    "Воспользуемся формулой Бернулли"
   ],
   "metadata": {
    "collapsed": false,
    "pycharm": {
     "name": "#%% md\n"
    }
   }
  },
  {
   "cell_type": "code",
   "execution_count": 70,
   "outputs": [],
   "source": [
    "def probablity_binom(p, n, k):\n",
    "    return combinations(n, k) * (p**k) * ((1-p) ** (n-k))"
   ],
   "metadata": {
    "collapsed": false,
    "pycharm": {
     "name": "#%%\n",
     "is_executing": false
    }
   }
  },
  {
   "cell_type": "markdown",
   "source": [
    "Нам нужно найти сумму вероятностей при N выстрелах, которая больше или равна 0,9"
   ],
   "metadata": {
    "collapsed": false,
    "pycharm": {
     "name": "#%% md\n"
    }
   }
  },
  {
   "cell_type": "code",
   "execution_count": 71,
   "outputs": [],
   "source": [
    "def probablity_gte(p, n, k):\n",
    "    return sum([probablity_binom(p, n, i) for i in range(k, n + 1)])"
   ],
   "metadata": {
    "collapsed": false,
    "pycharm": {
     "name": "#%%\n",
     "is_executing": false
    }
   }
  },
  {
   "cell_type": "code",
   "execution_count": null,
   "outputs": [],
   "source": [
    "p = 0.01\n",
    "prob = 0\n",
    "k = 6\n",
    "n = 99  # сотый выстрел == первое попадание\n",
    "\n",
    "while prob < 0.9:\n",
    "    n += 1\n",
    "    prob = probablity_gte(p, n, k)\n",
    "    \n",
    "print(f\"N = {n}\")"
   ],
   "metadata": {
    "collapsed": false,
    "pycharm": {
     "name": "#%%\n",
     "is_executing": true
    }
   }
  }
 ],
 "metadata": {
  "kernelspec": {
   "display_name": "Python 3",
   "language": "python",
   "name": "python3"
  },
  "language_info": {
   "codemirror_mode": {
    "name": "ipython",
    "version": 2
   },
   "file_extension": ".py",
   "mimetype": "text/x-python",
   "name": "python",
   "nbconvert_exporter": "python",
   "pygments_lexer": "ipython2",
   "version": "2.7.6"
  },
  "pycharm": {
   "stem_cell": {
    "cell_type": "raw",
    "source": [],
    "metadata": {
     "collapsed": false
    }
   }
  }
 },
 "nbformat": 4,
 "nbformat_minor": 0
}