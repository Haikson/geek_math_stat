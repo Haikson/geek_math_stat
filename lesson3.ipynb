{
 "cells": [
  {
   "cell_type": "markdown",
   "metadata": {
    "collapsed": true,
    "pycharm": {
     "name": "#%% md\n"
    }
   },
   "source": [
    "# Урок 3\n",
    "Описательная статистика. Качественные и количественные характеристики популяции. Графическое представление данных\n",
    "Домашнее задание"
   ]
  },
  {
   "cell_type": "markdown",
   "source": [
    "### Задача 1\n",
    "\n",
    "Даны значения зарплат из выборки выпускников:\n",
    "\n",
    "100, 80, 75, 77, 89, 33, 45, 25, 65, 17, 30, 230, 24, 57, 55, 70, 75, 65, 84, 90, 150\n",
    "\n",
    "Используя только встроенные питоновские функции и структуры данных \n",
    "(т.е. без библиотек numpy, pandas и др.) посчитать\n",
    " среднее арифметическое,\n",
    " смещённую и несмещённую оценки дисперсии,\n",
    " среднее квадратичное отклонение для данной выборки.\n",
    "\n",
    "Можно затем посчитать те же значения с использованием библиотек, чтобы проверить себя."
   ],
   "metadata": {
    "collapsed": false,
    "pycharm": {
     "name": "#%% md\n"
    }
   }
  },
  {
   "cell_type": "code",
   "execution_count": 31,
   "outputs": [],
   "source": [
    "arr = [100, 80, 75, 77, 89, 33, 45, 25, 65, 17, 30, 230, 24, 57, 55, 70, 75, 65, 84, 90, 150]"
   ],
   "metadata": {
    "collapsed": false,
    "pycharm": {
     "name": "#%%\n",
     "is_executing": false
    }
   }
  },
  {
   "cell_type": "markdown",
   "source": [
    "Средее арифметическое"
   ],
   "metadata": {
    "collapsed": false,
    "pycharm": {
     "name": "#%% md\n"
    }
   }
  },
  {
   "cell_type": "code",
   "execution_count": 32,
   "outputs": [
    {
     "name": "stdout",
     "text": [
      "Средее арифметическое = 73.14285714285714\n"
     ],
     "output_type": "stream"
    }
   ],
   "source": [
    "m = len(arr)\n",
    "marr = sum(arr)/m\n",
    "print(f\"Средее арифметическое = {marr}\")"
   ],
   "metadata": {
    "collapsed": false,
    "pycharm": {
     "name": "#%%\n",
     "is_executing": false
    }
   }
  },
  {
   "cell_type": "markdown",
   "source": [
    "Выборчная дисперсия__\n",
    "\n",
    "$$\\sigma^2 = \\dfrac{1}{m} \\displaystyle\\sum_{i = 1}^m \\left( x_i - \\overline{x} \\right)^2$$"
   ],
   "metadata": {
    "collapsed": false
   }
  },
  {
   "cell_type": "code",
   "execution_count": 33,
   "outputs": [
    {
     "name": "stdout",
     "text": [
      "Смещенная дисперсия: 2135.074829931973\n",
      "Несмещенная дисперсия: 2241.8285714285716\n"
     ],
     "output_type": "stream"
    }
   ],
   "source": [
    "sigma = sum((x-marr) ** 2 for x in arr) / m\n",
    "sigma_unbiased = sum((x-marr) ** 2 for x in arr) / (m-1)\n",
    "print(f\"Смещенная дисперсия: {sigma}\")\n",
    "print(f\"Несмещенная дисперсия: {sigma_unbiased}\")"
   ],
   "metadata": {
    "collapsed": false,
    "pycharm": {
     "name": "#%%\n",
     "is_executing": false
    }
   }
  },
  {
   "cell_type": "markdown",
   "source": [
    "Среднеквадратичное отклонение\n",
    "\n",
    "$$\\sigma =  \\sqrt{\\dfrac{1}{m} \\displaystyle\\sum_{i = 1}^m \\left( x_i - \\overline{x} \\right)^2}, \\:\\: \\sigma_{unbiased} = \\sqrt{\\dfrac{1}{m - 1} \\displaystyle\\sum_{i = 1}^m \\left( x_i - \\overline{x} \\right)^2}$$"
   ],
   "metadata": {
    "collapsed": false,
    "pycharm": {
     "name": "#%% md\n"
    }
   }
  },
  {
   "cell_type": "code",
   "execution_count": 34,
   "outputs": [
    {
     "name": "stdout",
     "text": [
      "Смещенное среднеквадратичное отклонение: 46.20686994302874\n",
      "Несмещенное реднеквадратичное отклонение: 47.34795213553139\n"
     ],
     "output_type": "stream"
    }
   ],
   "source": [
    "import math\n",
    "sqrt_sigma = math.sqrt(sigma)\n",
    "sqrt_sigma_unbiased = math.sqrt(sigma_unbiased)\n",
    "print(f\"Смещенное среднеквадратичное отклонение: {sqrt_sigma}\")\n",
    "print(f\"Несмещенное реднеквадратичное отклонение: {sqrt_sigma_unbiased}\")"
   ],
   "metadata": {
    "collapsed": false,
    "pycharm": {
     "name": "#%%\n",
     "is_executing": false
    }
   }
  },
  {
   "cell_type": "markdown",
   "source": [
    "### Задача 2\n",
    "\n",
    "Для выборки из задачи 1 найти (также без использования библиотек):\n",
    "1. медиану, первый и третий квартили, интерквартильное расстояние,\n",
    "2. выборсы в выборке (используя для этого метод как при построении \"усов\" из boxplot).\n",
    "\n",
    "Возможные неоднозначности в вычислении квантилей можно разрешать любым способом."
   ],
   "metadata": {
    "collapsed": false
   }
  },
  {
   "cell_type": "code",
   "execution_count": 35,
   "outputs": [
    {
     "name": "stdout",
     "text": [
      "Медиана = 75\n"
     ],
     "output_type": "stream"
    }
   ],
   "source": [
    "sorted_arr = sorted(arr)\n",
    "mediana = sorted_arr[(m//2)+1] if m % 2 != 0 else (sorted_arr[m//2] + sorted_arr[(m//2)+1])/2\n",
    "print(f\"Медиана = {mediana}\")"
   ],
   "metadata": {
    "collapsed": false,
    "pycharm": {
     "name": "#%%\n",
     "is_executing": false
    }
   }
  },
  {
   "cell_type": "code",
   "execution_count": 36,
   "outputs": [
    {
     "name": "stdout",
     "text": [
      "первый квартиль = 45\n",
      "третий квартиль = 84\n"
     ],
     "output_type": "stream"
    }
   ],
   "source": [
    "q1 = sorted_arr[m//4]\n",
    "q3 = sorted_arr[3*m//4]\n",
    "print(f\"первый квартиль = {q1}\")\n",
    "print(f\"третий квартиль = {q3}\")\n"
   ],
   "metadata": {
    "collapsed": false,
    "pycharm": {
     "name": "#%%\n",
     "is_executing": false
    }
   }
  },
  {
   "cell_type": "markdown",
   "source": [
    "__Не разобрался с интерквартильным расстоянием__\n",
    "\n",
    "Кажется это все числа между первым и вторым. Тогда"
   ],
   "metadata": {
    "collapsed": false,
    "pycharm": {
     "name": "#%% md\n"
    }
   }
  },
  {
   "cell_type": "code",
   "execution_count": 37,
   "outputs": [
    {
     "name": "stdout",
     "text": [
      "интерквартильное расстояние = [55, 57, 65, 65, 70, 75, 75, 77, 80]\n"
     ],
     "output_type": "stream"
    }
   ],
   "source": [
    "inter_q = [i for i in sorted_arr if q1 < i < q3]\n",
    "print(f\"интерквартильное расстояние = {inter_q}\")"
   ],
   "metadata": {
    "collapsed": false,
    "pycharm": {
     "name": "#%%\n",
     "is_executing": false
    }
   }
  },
  {
   "cell_type": "markdown",
   "source": [
    "Или же это разница из максимального значения минимального значения в данном интервале"
   ],
   "metadata": {
    "collapsed": false,
    "pycharm": {
     "name": "#%% md\n"
    }
   }
  },
  {
   "cell_type": "markdown",
   "source": [
    "Выбросы тоже не нашел как вычислять без np"
   ],
   "metadata": {
    "collapsed": false
   }
  },
  {
   "cell_type": "code",
   "execution_count": 38,
   "outputs": [
    {
     "name": "stdout",
     "text": [
      "интерквартильное расстояние = 25\n"
     ],
     "output_type": "stream"
    }
   ],
   "source": [
    "inter_q = inter_q[-1] - inter_q[0]\n",
    "print(f\"интерквартильное расстояние = {inter_q}\")"
   ],
   "metadata": {
    "collapsed": false,
    "pycharm": {
     "name": "#%%\n",
     "is_executing": false
    }
   }
  },
  {
   "cell_type": "markdown",
   "source": [
    "### Задача 3\n",
    "\n",
    "В университет на факультеты A и B поступило равное количество студентов,\n",
    "а на факультет C студентов поступило столько же, сколько на A и B вместе.\n",
    "Вероятность того, что студент факультета A сдаст первую сессию, равна 0.8.\n",
    "Для студента факультета B эта вероятность равна 0.7,\n",
    "а для студента факультета C - 0.9.\n",
    "\n",
    "Студент сдал первую сессию. Какова вероятность, что он учится:\n",
    "a) на факультете A?\n",
    "б) на факультете B?\n",
    "в) на факультете C?\n",
    "\n",
    "Замечание: да, эта задача не на тему описательных статистик, но тема важная, и её стоит иногда освежать в памяти."
   ],
   "metadata": {
    "collapsed": false,
    "pycharm": {
     "name": "#%% md\n"
    }
   }
  },
  {
   "cell_type": "markdown",
   "source": [
    "Студент может быть из любого факультета. Поэтому\n",
    "\n",
    "P(F1)=P(F2)=1/4\n",
    "P(F3)=1/2\n",
    "\n",
    "По формуле Байеса\n",
    "\n",
    "Pa(F1)=(P(F1)*Pf1(A))/(P(F1)*Pf1(A)+P(F2)*Pf2(A)+P(F3)*Pf3(A))\n",
    "Pa(F2)=(P(F2)*Pf2(A))/(P(F1)*Pf1(A)+P(F2)*Pf2(A)+P(F3)*Pf3(A))\n",
    "Pa(F3)=(P(F3)*Pf3(A))/(P(F1)*Pf1(A)+P(F2)*Pf2(A)+P(F3)*Pf3(A))\n",
    "\n",
    "где\n",
    "\n",
    "Pf1(A) = 0.8\n",
    "Pf2(A) = 0.7\n",
    "Pf3(A) = 0.9"
   ],
   "metadata": {
    "collapsed": false,
    "pycharm": {
     "name": "#%% md\n"
    }
   }
  },
  {
   "cell_type": "code",
   "execution_count": 39,
   "outputs": [],
   "source": [
    "pf1 = 0.8\n",
    "pf2 = 0.7\n",
    "pf3 = 0.9"
   ],
   "metadata": {
    "collapsed": false,
    "pycharm": {
     "name": "#%%\n",
     "is_executing": false
    }
   }
  },
  {
   "cell_type": "markdown",
   "source": [
    "Найдем общй для всех знаменатель\n",
    "\n",
    "(P(F1)*Pf1(A)+P(F2)*Pf2(A)+P(F3)*Pf3(A))"
   ],
   "metadata": {
    "collapsed": false,
    "pycharm": {
     "name": "#%% md\n"
    }
   }
  },
  {
   "cell_type": "code",
   "execution_count": 40,
   "outputs": [],
   "source": [
    "divider = pf1/4 + pf2/4 + pf3/2"
   ],
   "metadata": {
    "collapsed": false,
    "pycharm": {
     "name": "#%%\n",
     "is_executing": false
    }
   }
  },
  {
   "cell_type": "markdown",
   "source": [
    "Вычислим вероятности\n"
   ],
   "metadata": {
    "collapsed": false,
    "pycharm": {
     "name": "#%% md\n"
    }
   }
  },
  {
   "cell_type": "code",
   "execution_count": 42,
   "outputs": [
    {
     "name": "stdout",
     "text": [
      "Вероятность того, что студент из факультета A = 0.24242424242424246\n",
      "Вероятность того, что студент из факультета B = 0.21212121212121213\n",
      "Вероятность того, что студент из факультета C = 0.5454545454545455\n"
     ],
     "output_type": "stream"
    }
   ],
   "source": [
    "def get_facultet_probablity(f_prob):\n",
    "    if f_prob < 0.9:\n",
    "        return (f_prob/4) / divider\n",
    "    else:\n",
    "        return (f_prob/2) / divider\n",
    "\n",
    "for k, v in {'A': pf1, 'B': pf2, 'C': pf3}.items():\n",
    "    print(f\"Вероятность того, что студент из факультета {k} = {get_facultet_probablity(v)}\")"
   ],
   "metadata": {
    "collapsed": false,
    "pycharm": {
     "name": "#%%\n",
     "is_executing": false
    }
   }
  }
 ],
 "metadata": {
  "kernelspec": {
   "display_name": "Python 3",
   "language": "python",
   "name": "python3"
  },
  "language_info": {
   "codemirror_mode": {
    "name": "ipython",
    "version": 2
   },
   "file_extension": ".py",
   "mimetype": "text/x-python",
   "name": "python",
   "nbconvert_exporter": "python",
   "pygments_lexer": "ipython2",
   "version": "2.7.6"
  },
  "pycharm": {
   "stem_cell": {
    "cell_type": "raw",
    "source": [],
    "metadata": {
     "collapsed": false
    }
   }
  }
 },
 "nbformat": 4,
 "nbformat_minor": 0
}